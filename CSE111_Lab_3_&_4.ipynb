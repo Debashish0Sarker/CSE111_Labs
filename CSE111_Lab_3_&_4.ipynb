{
  "nbformat": 4,
  "nbformat_minor": 0,
  "metadata": {
    "colab": {
      "provenance": []
    },
    "kernelspec": {
      "name": "python3",
      "display_name": "Python 3"
    },
    "language_info": {
      "name": "python"
    }
  },
  "cells": [
    {
      "cell_type": "code",
      "execution_count": null,
      "metadata": {
        "id": "DL5rFJsYh-qn"
      },
      "outputs": [],
      "source": [
        "#1\n",
        "class Patient:\n",
        "  def __init__ (self,name,age,weight,height):\n",
        "    self.name=name\n",
        "    self.age=age\n",
        "    self.weight=weight\n",
        "    self.height=height\n",
        "  def printDetails(self):\n",
        "    print('Name: ',self.name)\n",
        "    print('Age: ',self.age)\n",
        "    print('Weight: ',self.weight,' kg')\n",
        "    print('Height: ',self.height,' cm')\n",
        "    print('BMI: ',self.weight/((self.height**2)/10000))"
      ]
    },
    {
      "cell_type": "code",
      "source": [
        "p1 = Patient(\"A\", 55, 63.0, 158.0)\n",
        "p1.printDetails()\n",
        "print(\"====================\")\n",
        "p2 = Patient(\"B\", 53, 61.0, 149.0)\n",
        "p2.printDetails()"
      ],
      "metadata": {
        "colab": {
          "base_uri": "https://localhost:8080/"
        },
        "id": "sNfow4lYlbuK",
        "outputId": "af0652e2-4857-4ce5-e91a-d5b543c5e651"
      },
      "execution_count": null,
      "outputs": [
        {
          "output_type": "stream",
          "name": "stdout",
          "text": [
            "Name:  A\n",
            "Age:  55\n",
            "Weight:  63.0  kg\n",
            "Height:  158.0  cm\n",
            "BMI:  25.236340330075308\n",
            "====================\n",
            "Name:  B\n",
            "Age:  53\n",
            "Weight:  61.0  kg\n",
            "Height:  149.0  cm\n",
            "BMI:  27.476239809017613\n"
          ]
        }
      ]
    },
    {
      "cell_type": "code",
      "source": [
        "#2\n",
        "class Shape:\n",
        "  def __init__ (self,shape,base,height):\n",
        "    self.shape=shape\n",
        "    self.height=height\n",
        "    self.base=base\n",
        "  def area(self):\n",
        "    if self.shape=='Triangle':\n",
        "      print('Area: ',((self.base*self.height)/2))\n",
        "    elif self.shape=='Square':\n",
        "      print('Area: ',self.base*self.height)\n",
        "    elif self.shape=='Rhombus':\n",
        "      print('Area: ',((self.base*self.height)/2))\n",
        "    elif self.shape=='Rectangle':\n",
        "      print('Area: ',(self.base*self.height))\n",
        "    else:\n",
        "      print('Area: ','Shape unknown')"
      ],
      "metadata": {
        "id": "Nf2o8mJkyrC4"
      },
      "execution_count": null,
      "outputs": []
    },
    {
      "cell_type": "code",
      "source": [
        "triangle = Shape(\"Triangle\",10,25)\n",
        "triangle.area()\n",
        "print(\"==========================\")\n",
        "square = Shape(\"Square\",10,10)\n",
        "square.area()\n",
        "print(\"==========================\")\n",
        "rhombus = Shape(\"Rhombus\",18,25)\n",
        "rhombus.area()\n",
        "print(\"==========================\")\n",
        "rectangle = Shape(\"Rectangle\",15,30)\n",
        "rectangle.area()\n",
        "print(\"==========================\")\n",
        "trapezium = Shape(\"Trapezium\",15,30)\n",
        "trapezium.area()\n"
      ],
      "metadata": {
        "colab": {
          "base_uri": "https://localhost:8080/"
        },
        "id": "bshGSL_5BuBD",
        "outputId": "5a6b1dc9-544f-4d73-d738-dadd9b136f76"
      },
      "execution_count": null,
      "outputs": [
        {
          "output_type": "stream",
          "name": "stdout",
          "text": [
            "Area:  125.0\n",
            "==========================\n",
            "Area:  100\n",
            "==========================\n",
            "Area:  225.0\n",
            "==========================\n",
            "Area:  450\n",
            "==========================\n",
            "Area:  Shape unknown\n"
          ]
        }
      ]
    },
    {
      "cell_type": "code",
      "source": [
        "#3\n",
        "class Calculator:\n",
        "  def __init__(self):\n",
        "    print(\"Calculator is ready!\")\n",
        "\n",
        "  def calculate (self, p1, p2, p3):\n",
        "    self.p1 = p1\n",
        "    self.p2 = p2\n",
        "    self.p3 = p3\n",
        "\n",
        "    if self.p3 == '+':\n",
        "      return (self.p1 + self.p2)\n",
        "\n",
        "    elif self.p3 == \"-\":\n",
        "      return (self.p1 - self.p2)\n",
        "\n",
        "    elif self.p3 == \"*\":\n",
        "      return (self.p1 * self.p2)\n",
        "\n",
        "    elif self.p3 == \"/\":\n",
        "      return self.p1 / self.p2\n",
        "\n",
        "  def showCalculation(self):\n",
        "     print(f\"{self.p1} {self.p3} {self.p2} = {val}\")\n",
        "c1 = Calculator()\n",
        "print(\"==================\")\n",
        "val = c1.calculate(10, 20, '+')\n",
        "print(\"Returned value:\", val)\n",
        "c1.showCalculation()\n",
        "print(\"==================\")\n",
        "val = c1.calculate(val, 10, '-')\n",
        "print(\"Returned value:\", val)\n",
        "c1.showCalculation()\n",
        "print(\"==================\")\n",
        "val = c1.calculate(val, 5, '*')\n",
        "print(\"Returned value:\", val)\n",
        "c1.showCalculation()\n",
        "print(\"==================\")\n",
        "val = c1.calculate(val, 16, '/')\n",
        "print(\"Returned value:\", val)\n",
        "c1.showCalculation()"
      ],
      "metadata": {
        "id": "EYid2AyICCX-",
        "colab": {
          "base_uri": "https://localhost:8080/"
        },
        "outputId": "862cf4c5-3f58-489f-9409-c89f85e5fc0f"
      },
      "execution_count": null,
      "outputs": [
        {
          "output_type": "stream",
          "name": "stdout",
          "text": [
            "Calculator is ready!\n",
            "==================\n",
            "Returned value: 30\n",
            "10 + 20 = 30\n",
            "==================\n",
            "Returned value: 20\n",
            "30 - 10 = 20\n",
            "==================\n",
            "Returned value: 100\n",
            "20 * 5 = 100\n",
            "==================\n",
            "Returned value: 6.25\n",
            "100 / 16 = 6.25\n"
          ]
        }
      ]
    },
    {
      "cell_type": "code",
      "source": [
        "#4\n",
        "class Programmer:\n",
        "  def __init__ (self,name,lang,experience):\n",
        "    self.name=name\n",
        "    self.language=lang\n",
        "    self.experience=experience\n",
        "    print('Hooray! A new programmer is born')\n",
        "  def printDetails(self):\n",
        "    print('Name:',self.name)\n",
        "    print('Language:',self.language)\n",
        "    print('Experience:',self.experience)\n",
        "  def addExp(self,exp):\n",
        "    self.experience+=exp\n",
        "    print('Updating experience of',self.name)"
      ],
      "metadata": {
        "id": "KfpR5h7EFmvR"
      },
      "execution_count": null,
      "outputs": []
    },
    {
      "cell_type": "code",
      "source": [
        "p1 = Programmer(\"Ethen Hunt\", \"Java\", 10)\n",
        "p1.printDetails()\n",
        "print('--------------------------')\n",
        "p2 = Programmer(\"James Bond\", \"C++\", 7)\n",
        "p2.printDetails()\n",
        "print('--------------------------')\n",
        "p3 = Programmer(\"Jon Snow\", \"Python\", 4)\n",
        "p3.printDetails()\n",
        "p3.addExp(5)\n",
        "p3.printDetails()"
      ],
      "metadata": {
        "colab": {
          "base_uri": "https://localhost:8080/"
        },
        "id": "_iWCHdBhHbg4",
        "outputId": "bf2e5450-a7b5-4835-ae6d-8dfc3ef12561"
      },
      "execution_count": null,
      "outputs": [
        {
          "output_type": "stream",
          "name": "stdout",
          "text": [
            "Hooray! A new programmer is born\n",
            "Name: Ethen Hunt\n",
            "Language: Java\n",
            "Experience: 10\n",
            "--------------------------\n",
            "Hooray! A new programmer is born\n",
            "Name: James Bond\n",
            "Language: C++\n",
            "Experience: 7\n",
            "--------------------------\n",
            "Hooray! A new programmer is born\n",
            "Name: Jon Snow\n",
            "Language: Python\n",
            "Experience: 4\n",
            "Updating experience of Jon Snow\n",
            "Name: Jon Snow\n",
            "Language: Python\n",
            "Experience: 9\n"
          ]
        }
      ]
    },
    {
      "cell_type": "code",
      "source": [
        "#5\n",
        "class UberEats:\n",
        "  def __init__(self,name,num,place):\n",
        "    self.name=name\n",
        "    self.num=num\n",
        "    self.place=place\n",
        "    print(self.name,', Welcome to UberEats!')\n",
        "  def add_items(self,a,b,c,d):\n",
        "    self.a=a\n",
        "    self.b=b\n",
        "    self.c=c\n",
        "    self.d=d\n",
        "  def print_order_detail(self):\n",
        "    dict1=dict([(self.a,self.c),(self.b,self.d)])\n",
        "    sum=(self.c+self.d)\n",
        "    s=f\"User details: Name:{self.name},Phone:{self.num},Adress:{self.place}\\nOrders:{dict1}\\nTotal Pid Amount:{sum}\"\n",
        "    return s\n",
        "order1 = UberEats(\"Shakib\", \"01719658xxx\", \"Mohakhali\")\n",
        "print(\"=========================\")\n",
        "order1.add_items(\"Burger\", \"Coca Cola\", 220, 50)\n",
        "print(\"=========================\")\n",
        "print(order1.print_order_detail())\n",
        "print(\"=========================\")\n",
        "order2 = UberEats (\"Siam\", \"01719659xxx\", \"Uttara\")\n",
        "print(\"=========================\")\n",
        "order2.add_items(\"Pineapple\", \"Dairy Milk\", 80, 70)\n",
        "print(\"=========================\")\n",
        "print(order2.print_order_detail())\n",
        "\n",
        ""
      ],
      "metadata": {
        "colab": {
          "base_uri": "https://localhost:8080/"
        },
        "id": "l7sJLXs2Jfx0",
        "outputId": "72f9c7b7-bae8-4972-9fc7-eb3351502aef"
      },
      "execution_count": null,
      "outputs": [
        {
          "output_type": "stream",
          "name": "stdout",
          "text": [
            "Shakib , Welcome to UberEats!\n",
            "=========================\n",
            "=========================\n",
            "User details: Name:Shakib,Phone:01719658xxx,Adress:Mohakhali\n",
            "Orders:{'Burger': 220, 'Coca Cola': 50}\n",
            "Total Pid Amount:270\n",
            "=========================\n",
            "Siam , Welcome to UberEats!\n",
            "=========================\n",
            "=========================\n",
            "User details: Name:Siam,Phone:01719659xxx,Adress:Uttara\n",
            "Orders:{'Pineapple': 80, 'Dairy Milk': 70}\n",
            "Total Pid Amount:150\n"
          ]
        }
      ]
    },
    {
      "cell_type": "markdown",
      "source": [],
      "metadata": {
        "id": "yO5C6Gv99Q37"
      }
    },
    {
      "cell_type": "code",
      "source": [
        "#6\n",
        "class Customer:\n",
        "  def __init__(self, c1):\n",
        "    self.c1 = c1\n",
        "  def greet(self, c2 = None):\n",
        "    self.c2 = c2\n",
        "\n",
        "    if self.c2 == \"\":\n",
        "      print(\"Hello!\")\n",
        "\n",
        "    else:\n",
        "      print(f\"Hello {self.c1}!\")\n",
        "  def purchase(self, * prod):\n",
        "    self.prod = prod\n",
        "    print(f\"{self.c1}, you purched {len(prod)} item(s):\")\n",
        "\n",
        "    for i in self.prod:\n",
        "      print(i)\n",
        "customer_1 = Customer(\"Sam\")\n",
        "customer_1.greet()\n",
        "customer_1.purchase(\"chips\", \"chocolate\", \"orange juice\")\n",
        "print(\"-----------------------------\")\n",
        "customer_2 = Customer(\"David\")\n",
        "customer_2.greet(\"David\")\n",
        "customer_2.purchase(\"orange juice\")"
      ],
      "metadata": {
        "id": "FELCWR_stInL",
        "colab": {
          "base_uri": "https://localhost:8080/"
        },
        "outputId": "0438ca59-a5f8-4a77-ac69-c5123e078281"
      },
      "execution_count": null,
      "outputs": [
        {
          "output_type": "stream",
          "name": "stdout",
          "text": [
            "Hello!\n",
            "Sam, you purched 3 item(s)\n",
            "chips\n",
            "chocolate\n",
            "orange juice\n",
            "-----------------------------\n",
            "Hello David!\n",
            "David, you purched 1 item(s)\n",
            "orange juice\n"
          ]
        }
      ]
    },
    {
      "cell_type": "code",
      "source": [
        "#7\n",
        "class Cat:\n",
        "  def __init__(self,x='White',y='sitting'):\n",
        "    self.name=x\n",
        "    self.action=y\n",
        "  def printCat(self):\n",
        "    print(f\"{self.name} cat is {self.action}\")\n",
        "  def changeColor(self,update):\n",
        "    self.name=update\n",
        "c1 = Cat()\n",
        "c2 = Cat(\"Black\")\n",
        "c3 = Cat(\"Brown\", \"jumping\")\n",
        "c4 = Cat(\"Red\", \"purring\")\n",
        "c1.printCat()\n",
        "c2.printCat()\n",
        "c3.printCat()\n",
        "c4.printCat()\n",
        "c1.changeColor(\"Blue\")\n",
        "c3.changeColor(\"Purple\")\n",
        "c1.printCat()\n",
        "c3.printCat()"
      ],
      "metadata": {
        "colab": {
          "base_uri": "https://localhost:8080/"
        },
        "id": "e4TZUkfbU9jA",
        "outputId": "75b039e0-c457-49c8-c1ff-2f8871765db0"
      },
      "execution_count": null,
      "outputs": [
        {
          "output_type": "stream",
          "name": "stdout",
          "text": [
            "White cat is sitting\n",
            "Black cat is sitting\n",
            "Brown cat is jumping\n",
            "Red cat is purring\n",
            "Blue cat is sitting\n",
            "Purple cat is jumping\n"
          ]
        }
      ]
    },
    {
      "cell_type": "code",
      "source": [
        "#8\n",
        "class Student:\n",
        "  def __init__(self,x,y,z='CSE'):\n",
        "    self.name=x\n",
        "    self.id=y\n",
        "    self.dept=z\n",
        "  def dailyEffort(self,hour):\n",
        "    self.hour=hour\n",
        "  def printDetails(self):\n",
        "    if self.hour<=2:\n",
        "      s=f\"Should give more effort!\"\n",
        "    elif self.hour<=4:\n",
        "      s=f\"Keep up the good work!\"\n",
        "    else:\n",
        "      s=f\" Excellent! Now motivate others.\"\n",
        "    print(f\"Name: {self.name}\\nID: {self.id}\\nDepartment: {self.dept}\\nDaily Effort: {self.hour} hour(s)\\nSuggestion: {s}\")\n",
        "harry = Student('Harry Potter', 123)\n",
        "harry.dailyEffort(3)\n",
        "harry.printDetails()\n",
        "print('========================')\n",
        "john = Student(\"John Wick\", 456, \"BBA\")\n",
        "john.dailyEffort(2)\n",
        "john.printDetails()\n",
        "print('========================')\n",
        "naruto = Student(\"Naruto Uzumaki\", 777, \"Ninja\")\n",
        "naruto.dailyEffort(6)\n",
        "naruto.printDetails()\n"
      ],
      "metadata": {
        "colab": {
          "base_uri": "https://localhost:8080/"
        },
        "id": "n5tHb2HXXEgD",
        "outputId": "d03ce771-bbea-43de-b0b9-281fd6393e9a"
      },
      "execution_count": null,
      "outputs": [
        {
          "output_type": "stream",
          "name": "stdout",
          "text": [
            "Name: Harry Potter\n",
            "ID: 123\n",
            "Department: CSE\n",
            "Daily Effort: 3 hour(s)\n",
            "Suggestion: Keep up the good work!\n",
            "========================\n",
            "Name: John Wick\n",
            "ID: 456\n",
            "Department: BBA\n",
            "Daily Effort: 2 hour(s)\n",
            "Suggestion: Should give more effort!\n",
            "========================\n",
            "Name: Naruto Uzumaki\n",
            "ID: 777\n",
            "Department: Ninja\n",
            "Daily Effort: 6 hour(s)\n",
            "Suggestion:  Excellent! Now motivate others.\n"
          ]
        }
      ]
    },
    {
      "cell_type": "code",
      "source": [
        "#11\n",
        "class TaxiLagbe:\n",
        "  def __init__(self,n,p):\n",
        "    self.info=n\n",
        "    self.place=p\n",
        "    self.price=0\n",
        "    self.count=0\n",
        "    self.p=\"\"\n",
        "\n",
        "\n",
        "  def addPassenger(self,*args):\n",
        "    self.passengers=args\n",
        "    if self.count<4:\n",
        "     for i in self.passengers:\n",
        "      v=i.split(\"_\")\n",
        "      print(f\"Dear {v[0]}! Welcome to TaxiLagbe.\")\n",
        "      self.price+=int(v[1])\n",
        "      self.count+=1\n",
        "      self.p+=v[0]+\",\"\n",
        "    else:\n",
        "      print(\"Taxi Full! No more passengers can be added.\")\n",
        "\n",
        "  def printDetails(self):\n",
        "\n",
        "    print(f\"Trip info for Taxi number: {self.info}\\nThis taxi can cover only {self.place}\\nTotal passengers:{self.count}\\nPassenger lists: {self.p[:-1]}\\nTotal collected fare: {self.price} Taka\")\n",
        "taxi1 = TaxiLagbe('1010-01', 'Dhaka')\n",
        "print('-------------------------------')\n",
        "taxi1.addPassenger('Walker_100', 'Wood_200')\n",
        "taxi1.addPassenger('Matt_100')\n",
        "taxi1.addPassenger('Wilson_105')\n",
        "print('-------------------------------')\n",
        "taxi1.printDetails()\n",
        "print('-------------------------------')\n",
        "taxi1.addPassenger('Karen_200')\n",
        "print('-------------------------------')\n",
        "taxi1.printDetails()\n",
        "print('-------------------------------')\n",
        "taxi2 = TaxiLagbe('1010-02', 'Khulna')\n",
        "taxi2.addPassenger('Ronald_115')\n",
        "taxi2.addPassenger('Parker_215')\n",
        "print('-------------------------------')\n",
        "taxi2.printDetails()\n"
      ],
      "metadata": {
        "colab": {
          "base_uri": "https://localhost:8080/"
        },
        "id": "boSSez51_-R8",
        "outputId": "a51ab134-d34d-49e2-d6ab-c93731097c65"
      },
      "execution_count": null,
      "outputs": [
        {
          "output_type": "stream",
          "name": "stdout",
          "text": [
            "-------------------------------\n",
            "Dear Walker! Welcome to TaxiLagbe.\n",
            "Dear Wood! Welcome to TaxiLagbe.\n",
            "Dear Matt! Welcome to TaxiLagbe.\n",
            "Dear Wilson! Welcome to TaxiLagbe.\n",
            "-------------------------------\n",
            "Trip info for Taxi number: 1010-01\n",
            "This taxi can cover only Dhaka\n",
            "Total passengers:4\n",
            "Passenger lists: Walker,Wood,Matt,Wilson\n",
            "Total collected fare: 505\n",
            "-------------------------------\n",
            "Taxi Full! No more passengers can be added.\n",
            "-------------------------------\n",
            "Trip info for Taxi number: 1010-01\n",
            "This taxi can cover only Dhaka\n",
            "Total passengers:4\n",
            "Passenger lists: Walker,Wood,Matt,Wilson\n",
            "Total collected fare: 505\n",
            "-------------------------------\n",
            "Dear Ronald! Welcome to TaxiLagbe.\n",
            "Dear Parker! Welcome to TaxiLagbe.\n",
            "-------------------------------\n",
            "Trip info for Taxi number: 1010-02\n",
            "This taxi can cover only Khulna\n",
            "Total passengers:2\n",
            "Passenger lists: Ronald,Parker\n",
            "Total collected fare: 330\n"
          ]
        }
      ]
    },
    {
      "cell_type": "code",
      "source": [
        "#9\n",
        "class Batsman:\n",
        "  def __init__(self,*args):\n",
        "    if len(args)==2:\n",
        "      self.name='New Batsman'\n",
        "      self.run=args[0]\n",
        "      self.ball=args[1]\n",
        "    else:\n",
        "      self.name=args[0]\n",
        "      self.run=args[1]\n",
        "      self.ball=args[2]\n",
        "  def printCareerStatistics(self):\n",
        "      print(f\"Name: {self.name}\\nRun Scored: {self.run} , Balls Faced: {self.ball}\")\n",
        "  def battingStrikeRate(self):\n",
        "      r=(self.run/self.ball)*100\n",
        "      s=f\"{r}\"\n",
        "      return s\n",
        "  def setName(self,update):\n",
        "      self.name=update\n",
        "\n",
        "b1 = Batsman(6101, 7380)\n",
        "b1.printCareerStatistics()\n",
        "print(\"============================\")\n",
        "b2 = Batsman(\"Liton Das\", 678, 773)\n",
        "b2.printCareerStatistics()\n",
        "print(\"----------------------------\")\n",
        "print(b2.battingStrikeRate())\n",
        "print(\"============================\")\n",
        "b1.setName(\"Shakib Al Hasan\")\n",
        "b1.printCareerStatistics()\n",
        "print(\"----------------------------\")\n",
        "print(b1.battingStrikeRate())"
      ],
      "metadata": {
        "colab": {
          "base_uri": "https://localhost:8080/"
        },
        "id": "v9IReA1pAVs9",
        "outputId": "c83bc03a-398f-4ac6-ed4f-d9de029aa308"
      },
      "execution_count": null,
      "outputs": [
        {
          "output_type": "stream",
          "name": "stdout",
          "text": [
            "Name: New Batsman\n",
            "Run Scored: 6101 , Balls Faced: 7380\n",
            "============================\n",
            "Name: Liton Das\n",
            "Run Scored: 678 , Balls Faced: 773\n",
            "----------------------------\n",
            "87.71021992238033\n",
            "============================\n",
            "Name: Shakib Al Hasan\n",
            "Run Scored: 6101 , Balls Faced: 7380\n",
            "----------------------------\n",
            "82.66937669376694\n"
          ]
        }
      ]
    },
    {
      "cell_type": "code",
      "source": [
        "#10\n",
        "class Author:\n",
        "  def __init__ (self,*args):\n",
        "    if len(args)==1:\n",
        "      self.name=args[0]\n",
        "      self.lst=[]\n",
        "    elif len(args)==0:\n",
        "      self.name='Default'\n",
        "      self.lst=[]\n",
        "    else:\n",
        "      self.name=args[0]\n",
        "      self.lst=list(args[1:])\n",
        "  def addBooks(self,*args):\n",
        "    for i in args:\n",
        "      self.lst.append(i)\n",
        "  def printDetails(self):\n",
        "    print(f\"Author Name: {self.name}\")\n",
        "    print(f'List of Books:')\n",
        "    for i in self.lst:\n",
        "      print(i)\n",
        "  def changeName(self,update):\n",
        "    self.name=update\n",
        "auth1 = Author('Humayun Ahmed')\n",
        "auth1.addBooks('Deyal', 'Megher Opor Bari')\n",
        "auth1.printDetails()\n",
        "print(\"===================\")\n",
        "auth2 = Author()\n",
        "print(auth2.name)\n",
        "auth2.changeName('Mario Puzo')\n",
        "auth2.addBooks('The Godfather', 'Omerta', 'The Sicilian')\n",
        "print(\"===================\")\n",
        "auth2.printDetails()\n",
        "print(\"===================\")\n",
        "auth3 = Author('Paolo Coelho', 'The Alchemist', 'The Fifth Mountain')\n",
        "auth3.printDetails()"
      ],
      "metadata": {
        "colab": {
          "base_uri": "https://localhost:8080/"
        },
        "id": "Ix16SOTdGeZQ",
        "outputId": "1bdac4f0-21e5-4358-ed8b-8b8ac741dfb4"
      },
      "execution_count": null,
      "outputs": [
        {
          "output_type": "stream",
          "name": "stdout",
          "text": [
            "Author Name: Humayun Ahmed\n",
            "List of Books:\n",
            "Deyal\n",
            "Megher Opor Bari\n",
            "===================\n",
            "Default\n",
            "===================\n",
            "Author Name: Mario Puzo\n",
            "List of Books:\n",
            "The Godfather\n",
            "Omerta\n",
            "The Sicilian\n",
            "===================\n",
            "Author Name: Paolo Coelho\n",
            "List of Books:\n",
            "The Alchemist\n",
            "The Fifth Mountain\n"
          ]
        }
      ]
    },
    {
      "cell_type": "code",
      "source": [
        "#12\n",
        "class Account:\n",
        "  def __init__(self,x=None,y=0):\n",
        "    if x==None:\n",
        "      self.name='Default Account'\n",
        "    else:\n",
        "      self.name=x\n",
        "    self.balance=y\n",
        "  def details(self):\n",
        "    s=f\"{self.name}\\n{self.balance}\"\n",
        "    return s\n",
        "\n",
        "  def withdraw(self,draw):\n",
        "    self.draw=draw\n",
        "    self.balance=self.balance-self.draw\n",
        "    if self.balance >= 3071.0:\n",
        "      print(f\"Withdraw successful! New balance is: {self.balance}\")\n",
        "    else:\n",
        "      print('Sorry, Withdraw unsuccessful! The account balance after deducting withdraw amount is equal to or less than minimum.')\n",
        "      self.balance=self.balance+self.draw\n",
        "\n",
        "a1 = Account()\n",
        "print(a1.details())\n",
        "print(\"------------------------\")\n",
        "a1.name = \"Oliver\"\n",
        "a1.balance = 10000.0\n",
        "print(a1.details())\n",
        "print(\"------------------------\")\n",
        "a2 = Account(\"Liam\")\n",
        "print(a2.details())\n",
        "print(\"------------------------\")\n",
        "a3 = Account(\"Noah\",400)\n",
        "print(a3.details())\n",
        "print(\"------------------------\")\n",
        "a1.withdraw(6930)\n",
        "print(\"------------------------\")\n",
        "a2.withdraw(600)\n",
        "print(\"------------------------\")\n",
        "a1.withdraw(6929)"
      ],
      "metadata": {
        "colab": {
          "base_uri": "https://localhost:8080/"
        },
        "id": "PNGEyymMh_0t",
        "outputId": "c472e4ec-9ea1-47a6-f508-3cf22d896aa3"
      },
      "execution_count": null,
      "outputs": [
        {
          "output_type": "stream",
          "name": "stdout",
          "text": [
            "Default Account\n",
            "0\n",
            "------------------------\n",
            "Oliver\n",
            "10000.0\n",
            "------------------------\n",
            "Liam\n",
            "0\n",
            "------------------------\n",
            "Noah\n",
            "400\n",
            "------------------------\n",
            "Sorry, Withdraw unsuccessful! The account balance after deducting withdraw amount is equal to or less than minimum.\n",
            "------------------------\n",
            "Sorry, Withdraw unsuccessful! The account balance after deducting withdraw amount is equal to or less than minimum.\n",
            "------------------------\n",
            "Withdraw successful! New balance is: 3071.0\n"
          ]
        }
      ]
    },
    {
      "cell_type": "code",
      "source": [
        "#13\n",
        "class StudentDatabase:\n",
        "    def __init__(self,n,id):\n",
        "        self.name=n\n",
        "        self.ID=id\n",
        "        self.list1=[]\n",
        "        self.grades={}\n",
        "        self.dict1={}\n",
        "        self.sum=0\n",
        "        self.cgpa=0\n",
        "\n",
        "    def calculateGPA(self,*args):\n",
        "\n",
        "        for i in range(len(args[0])):\n",
        "            l= args[0][i].split(':')\n",
        "            self.list1.append(l[0])\n",
        "            self.sum+=(float(l[1])*3)\n",
        "\n",
        "        self.cgpa=self.sum/(len(args[0])*3)\n",
        "        self.sum=0\n",
        "        self.dict1[tuple(self.list1)]=self.cgpa\n",
        "        self.list1 = []\n",
        "\n",
        "        if args[1] not in self.grades:\n",
        "            self.grades[args[1]]= self.dict1\n",
        "            self.dict1={}\n",
        "\n",
        "    def printDetails(self):\n",
        "        print(f'Name: {self.name}\\nID: {self.ID}')\n",
        "        for k,v in self.grades.items():\n",
        "            print(f'Courses taken in {k}:')\n",
        "            for i in v.keys():\n",
        "                for j in i:\n",
        "                    print(j)\n",
        "                print(f'GPA: {v[i]}')\n",
        "\n",
        "s1 = StudentDatabase('Pietro', '10101222')\n",
        "s1.calculateGPA(['CSE230: 4.0', 'CSE220: 4.0', 'MAT110: 4.0'], 'Summer2020')\n",
        "s1.calculateGPA(['CSE250: 3.7', 'CSE330: 4.0'], 'Summer2021')\n",
        "print(f'Grades for {s1.name}\\n{s1.grades}')\n",
        "print('------------------------------------------------------')\n",
        "s1.printDetails()\n",
        "s2 = StudentDatabase('Wanda', '10103332')\n",
        "s2.calculateGPA(['CSE111: 3.7', 'CSE260: 3.7', 'ENG101: 4.0'], 'Summer2022')\n",
        "print('------------------------------------------------------')\n",
        "print(f'Grades for {s2.name}\\n{s2.grades}')\n",
        "print('------------------------------------------------------')\n",
        "s2.printDetails()"
      ],
      "metadata": {
        "colab": {
          "base_uri": "https://localhost:8080/"
        },
        "id": "WfS-x7Ubql0d",
        "outputId": "a56667f8-503c-4864-f97e-0a15e750e13e"
      },
      "execution_count": null,
      "outputs": [
        {
          "output_type": "stream",
          "name": "stdout",
          "text": [
            "Grades for Pietro\n",
            "{'Summer2020': {('CSE230', 'CSE220', 'MAT110'): 4.0}, 'Summer2021': {('CSE250', 'CSE330'): 3.85}}\n",
            "------------------------------------------------------\n",
            "Name: Pietro\n",
            "ID: 10101222\n",
            "Courses taken in Summer2020:\n",
            "CSE230\n",
            "CSE220\n",
            "MAT110\n",
            "GPA: 4.0\n",
            "Courses taken in Summer2021:\n",
            "CSE250\n",
            "CSE330\n",
            "GPA: 3.85\n",
            "------------------------------------------------------\n",
            "Grades for Wanda\n",
            "{'Summer2022': {('CSE111', 'CSE260', 'ENG101'): 3.8000000000000003}}\n",
            "------------------------------------------------------\n",
            "Name: Wanda\n",
            "ID: 10103332\n",
            "Courses taken in Summer2022:\n",
            "CSE111\n",
            "CSE260\n",
            "ENG101\n",
            "GPA: 3.8000000000000003\n"
          ]
        }
      ]
    },
    {
      "cell_type": "code",
      "source": [
        "#13\n",
        "class StudentDatabase:\n",
        "  def __init__(self,name,id):\n",
        "    self.name=name\n",
        "    self.id=id\n",
        "  def calculateGPA(self,lst,sem):\n",
        "    self.lst=lst\n",
        "    self.sem=sem\n",
        "    mlst=[]\n",
        "    count=0\n",
        "    dct1={}\n",
        "    dct2={}\n",
        "    for j in range(len(self.lst)):\n",
        "      v=j.split(':')\n",
        "      if j%2==0:\n",
        "        mlst.append(v[j])\n",
        "      else:\n",
        "        count+=self.lst(v[j])\n",
        "    dct2.update({tuple(self.lst):(count/len(mlst))})\n",
        "    dct1.update({self.sem:dct1})\n",
        "    s=f\"{dct1}\"\n",
        "    return s\n",
        "s1 = StudentDatabase('Pietro', '10101222')\n",
        "s1.calculateGPA(['CSE230: 4.0', 'CSE220: 4.0', 'MAT110: 4.0'], 'Summer2020')\n",
        "s1.calculateGPA(['CSE250: 3.7', 'CSE330: 4.0'], 'Summer2021')\n",
        "print(f'Grades for {s1.name}\\n{s1.grades}')\n",
        "print('------------------------------------------------------')\n"
      ],
      "metadata": {
        "colab": {
          "base_uri": "https://localhost:8080/",
          "height": 373
        },
        "id": "knHlP2nYGAlJ",
        "outputId": "98411f32-f803-4aa3-8d45-dfd88950bdcb"
      },
      "execution_count": null,
      "outputs": [
        {
          "output_type": "error",
          "ename": "AttributeError",
          "evalue": "ignored",
          "traceback": [
            "\u001b[0;31m---------------------------------------------------------------------------\u001b[0m",
            "\u001b[0;31mAttributeError\u001b[0m                            Traceback (most recent call last)",
            "\u001b[0;32m<ipython-input-10-c9bc0adc0608>\u001b[0m in \u001b[0;36m<module>\u001b[0;34m\u001b[0m\n\u001b[1;32m     22\u001b[0m     \u001b[0;32mreturn\u001b[0m \u001b[0ms\u001b[0m\u001b[0;34m\u001b[0m\u001b[0;34m\u001b[0m\u001b[0m\n\u001b[1;32m     23\u001b[0m \u001b[0ms1\u001b[0m \u001b[0;34m=\u001b[0m \u001b[0mStudentDatabase\u001b[0m\u001b[0;34m(\u001b[0m\u001b[0;34m'Pietro'\u001b[0m\u001b[0;34m,\u001b[0m \u001b[0;34m'10101222'\u001b[0m\u001b[0;34m)\u001b[0m\u001b[0;34m\u001b[0m\u001b[0;34m\u001b[0m\u001b[0m\n\u001b[0;32m---> 24\u001b[0;31m \u001b[0ms1\u001b[0m\u001b[0;34m.\u001b[0m\u001b[0mcalculateGPA\u001b[0m\u001b[0;34m(\u001b[0m\u001b[0;34m[\u001b[0m\u001b[0;34m'CSE230: 4.0'\u001b[0m\u001b[0;34m,\u001b[0m \u001b[0;34m'CSE220: 4.0'\u001b[0m\u001b[0;34m,\u001b[0m \u001b[0;34m'MAT110: 4.0'\u001b[0m\u001b[0;34m]\u001b[0m\u001b[0;34m,\u001b[0m \u001b[0;34m'Summer2020'\u001b[0m\u001b[0;34m)\u001b[0m\u001b[0;34m\u001b[0m\u001b[0;34m\u001b[0m\u001b[0m\n\u001b[0m\u001b[1;32m     25\u001b[0m \u001b[0ms1\u001b[0m\u001b[0;34m.\u001b[0m\u001b[0mcalculateGPA\u001b[0m\u001b[0;34m(\u001b[0m\u001b[0;34m[\u001b[0m\u001b[0;34m'CSE250: 3.7'\u001b[0m\u001b[0;34m,\u001b[0m \u001b[0;34m'CSE330: 4.0'\u001b[0m\u001b[0;34m]\u001b[0m\u001b[0;34m,\u001b[0m \u001b[0;34m'Summer2021'\u001b[0m\u001b[0;34m)\u001b[0m\u001b[0;34m\u001b[0m\u001b[0;34m\u001b[0m\u001b[0m\n\u001b[1;32m     26\u001b[0m \u001b[0mprint\u001b[0m\u001b[0;34m(\u001b[0m\u001b[0;34mf'Grades for {s1.name}\\n{s1.grades}'\u001b[0m\u001b[0;34m)\u001b[0m\u001b[0;34m\u001b[0m\u001b[0;34m\u001b[0m\u001b[0m\n",
            "\u001b[0;32m<ipython-input-10-c9bc0adc0608>\u001b[0m in \u001b[0;36mcalculateGPA\u001b[0;34m(self, lst, sem)\u001b[0m\n\u001b[1;32m     12\u001b[0m     \u001b[0mdct2\u001b[0m\u001b[0;34m=\u001b[0m\u001b[0;34m{\u001b[0m\u001b[0;34m}\u001b[0m\u001b[0;34m\u001b[0m\u001b[0;34m\u001b[0m\u001b[0m\n\u001b[1;32m     13\u001b[0m     \u001b[0;32mfor\u001b[0m \u001b[0mj\u001b[0m \u001b[0;32min\u001b[0m \u001b[0mrange\u001b[0m\u001b[0;34m(\u001b[0m\u001b[0mlen\u001b[0m\u001b[0;34m(\u001b[0m\u001b[0mself\u001b[0m\u001b[0;34m.\u001b[0m\u001b[0mlst\u001b[0m\u001b[0;34m)\u001b[0m\u001b[0;34m)\u001b[0m\u001b[0;34m:\u001b[0m\u001b[0;34m\u001b[0m\u001b[0;34m\u001b[0m\u001b[0m\n\u001b[0;32m---> 14\u001b[0;31m       \u001b[0mv\u001b[0m\u001b[0;34m=\u001b[0m\u001b[0mj\u001b[0m\u001b[0;34m.\u001b[0m\u001b[0msplit\u001b[0m\u001b[0;34m(\u001b[0m\u001b[0;34m':'\u001b[0m\u001b[0;34m)\u001b[0m\u001b[0;34m\u001b[0m\u001b[0;34m\u001b[0m\u001b[0m\n\u001b[0m\u001b[1;32m     15\u001b[0m       \u001b[0;32mif\u001b[0m \u001b[0mj\u001b[0m\u001b[0;34m%\u001b[0m\u001b[0;36m2\u001b[0m\u001b[0;34m==\u001b[0m\u001b[0;36m0\u001b[0m\u001b[0;34m:\u001b[0m\u001b[0;34m\u001b[0m\u001b[0;34m\u001b[0m\u001b[0m\n\u001b[1;32m     16\u001b[0m         \u001b[0mmlst\u001b[0m\u001b[0;34m.\u001b[0m\u001b[0mappend\u001b[0m\u001b[0;34m(\u001b[0m\u001b[0mv\u001b[0m\u001b[0;34m[\u001b[0m\u001b[0mj\u001b[0m\u001b[0;34m]\u001b[0m\u001b[0;34m)\u001b[0m\u001b[0;34m\u001b[0m\u001b[0;34m\u001b[0m\u001b[0m\n",
            "\u001b[0;31mAttributeError\u001b[0m: 'int' object has no attribute 'split'"
          ]
        }
      ]
    },
    {
      "cell_type": "code",
      "source": [
        "class Test3:\n",
        "    def __init__(self):\n",
        "        self.sum, self.y = 0, 0\n",
        "    def methodA(self):\n",
        "        x, y = 2, 3\n",
        "        msg = [0]\n",
        "        msg[0] = 3\n",
        "        y = self.y + msg[0]\n",
        "        self.methodB(msg, msg[0])\n",
        "        x = self.y + msg[0]\n",
        "        self.sum = x + y + msg[0]\n",
        "        print(x, y, self.sum)\n",
        "    def methodB(self, mg2, mg1):\n",
        "        x = 0\n",
        "        self.y = self.y + mg2[0]\n",
        "        x = x + 33 + mg1\n",
        "        self.sum = self.sum + x + self.y\n",
        "        mg2[0] = self.y + mg1\n",
        "        mg1 = mg1 + x + 2\n",
        "        print(x, self.y, self.sum)\n",
        "\n",
        "\n",
        "t3 = Test3()\n",
        "t3.methodA()\n",
        "t3.methodA()\n",
        "t3.methodA()\n",
        "t3.methodA()\n"
      ],
      "metadata": {
        "colab": {
          "base_uri": "https://localhost:8080/"
        },
        "id": "_f8d6aCtXmTt",
        "outputId": "e03543be-9d07-433e-adc5-e6d94f62d974"
      },
      "execution_count": null,
      "outputs": [
        {
          "output_type": "stream",
          "name": "stdout",
          "text": [
            "36 3 39\n",
            "9 3 18\n",
            "36 6 60\n",
            "15 6 30\n",
            "36 9 75\n",
            "21 9 42\n",
            "36 12 90\n",
            "27 12 54\n"
          ]
        }
      ]
    },
    {
      "cell_type": "code",
      "source": [
        "class Test5:\n",
        "  def __init__(self):\n",
        "    self.sum, self.y = 0, 0\n",
        "  def methodA(self):\n",
        "    x = 0\n",
        "    z = 0\n",
        "    while (z < 5):\n",
        "      self.y = self.y + self.sum\n",
        "      x = self.y + 1\n",
        "      print(x, self.y, self.sum)\n",
        "      self.sum = self.sum + self.methodB(x, self.y)\n",
        "      z += 1\n",
        "  def methodB(self, m, n):\n",
        "    x = 0\n",
        "    sum = 0\n",
        "    self.y = self.y + m\n",
        "    x = n - 4\n",
        "    sum = sum + self.y\n",
        "    print(x, self.y, sum)\n",
        "\n",
        "    return self.sum\n",
        "t5 = Test5()\n",
        "t5.methodA()\n",
        "\n",
        "\n"
      ],
      "metadata": {
        "id": "kmPsVF6-mqNd",
        "colab": {
          "base_uri": "https://localhost:8080/"
        },
        "outputId": "0f9527cf-9441-4cf4-e3ee-3a9f8d0b6c6a"
      },
      "execution_count": null,
      "outputs": [
        {
          "output_type": "stream",
          "name": "stdout",
          "text": [
            "1 0 0\n",
            "-4 1 1\n",
            "2 1 0\n",
            "-3 3 3\n",
            "4 3 0\n",
            "-1 7 7\n",
            "8 7 0\n",
            "3 15 15\n",
            "16 15 0\n",
            "11 31 31\n"
          ]
        }
      ]
    },
    {
      "cell_type": "code",
      "source": [
        "class FinalT6A:\n",
        "    def __init__(self, x, p):\n",
        "        self.temp, self.sum, self.y = 4, 0, 1\n",
        "        self.temp += 1\n",
        "        self.y = self.temp - p\n",
        "        self.sum = self.temp + x\n",
        "        print(x, self.y, self.sum)\n",
        "    def methodA(self):\n",
        "        x = 0\n",
        "        y = 0\n",
        "        y = y + self.y\n",
        "        x = self.y + 2 + self.temp\n",
        "        print(x)\n",
        "        self.sum = x + y + self.methodB(self.temp, y)\n",
        "        print(x, y, self.sum)\n",
        "    def methodB(self, temp, n):\n",
        "        x = 0\n",
        "        temp += 1\n",
        "        self.y = self.y + temp\n",
        "        x = x + 3 + n\n",
        "        self.sum = self.sum + x + self.y\n",
        "        print(x, self.y, self.sum)\n",
        "        return self.sum\n",
        "\n",
        "q1 = FinalT6A(2,1)\n",
        "q1.methodA()\n",
        "q1.methodA()\n"
      ],
      "metadata": {
        "colab": {
          "base_uri": "https://localhost:8080/"
        },
        "id": "Y_Mc9MXOos4G",
        "outputId": "09291054-3fc8-462d-b443-8b1dda19d535"
      },
      "execution_count": null,
      "outputs": [
        {
          "output_type": "stream",
          "name": "stdout",
          "text": [
            "2 4 7\n",
            "11\n",
            "7 10 24\n",
            "11 4 39\n",
            "17\n",
            "13 16 68\n",
            "17 10 95\n"
          ]
        }
      ]
    },
    {
      "cell_type": "code",
      "source": [
        "class Test5:\n",
        "  def __init__(self):\n",
        "      self.sum = 0\n",
        "      self.y = 0\n",
        "  def methodA(self):\n",
        "      x=y=k=0\n",
        "      msg = [5]\n",
        "      while (k < 2):\n",
        "          y += msg[0]\n",
        "          x = y + self.methodB(msg, k)\n",
        "          self.sum = x + y + msg[0]\n",
        "          print(x ,\" \" , y, \" \" , self.sum)\n",
        "          k+=1\n",
        "  def methodB(self, mg2, mg1):\n",
        "        x = 0\n",
        "        self.y += mg2[0]\n",
        "        x = x + 3 + mg1\n",
        "        self.sum += x + self.y\n",
        "        mg2[0] = self.y + mg1\n",
        "        mg1 += x + 2\n",
        "        print(x , \" \" ,self.y, \" \" , self.sum)\n",
        "        return mg1\n",
        "t1 = Test5()\n",
        "t1.methodA()\n",
        "t1.methodA()\n",
        "t1.methodA()\n"
      ],
      "metadata": {
        "colab": {
          "base_uri": "https://localhost:8080/"
        },
        "id": "bKexLNANDCKV",
        "outputId": "4611a39b-9af6-4d2d-eb03-c7e4b47801d8"
      },
      "execution_count": null,
      "outputs": [
        {
          "output_type": "stream",
          "name": "stdout",
          "text": [
            "3   5   8\n",
            "10   5   20\n",
            "4   10   34\n",
            "17   10   38\n",
            "3   15   56\n",
            "10   5   30\n",
            "4   30   64\n",
            "27   20   78\n",
            "3   35   116\n",
            "10   5   50\n",
            "4   70   124\n",
            "47   40   158\n"
          ]
        }
      ]
    },
    {
      "cell_type": "code",
      "source": [
        "#19\n",
        "class msgClass:\n",
        "    def __init__(self):\n",
        "        self.content = 0\n",
        "class Q5:\n",
        "    def __init__(self):\n",
        "        self.sum = 1\n",
        "        self.x = 2\n",
        "        self.y = 3\n",
        "    def methodA(self):\n",
        "        x, y = 1, 1\n",
        "        msg = []\n",
        "        myMsg = msgClass()\n",
        "        myMsg.content = self.x\n",
        "        msg.append(myMsg)\n",
        "        msg[0].content = self.y + myMsg.content\n",
        "        self.y = self.y + self.methodB(msg[0])\n",
        "        y = self.methodB(msg[0]) + self.y\n",
        "        x = y + self.methodB(msg[0], msg)\n",
        "        self.sum = x + y + msg[0].content\n",
        "        print(x,\" \", y,\" \", self.sum)\n",
        "    def methodB(self, mg1, mg2 = None):\n",
        "        if mg2 == None:\n",
        "            x, y = 5, 6\n",
        "            y = self.sum + mg1.content\n",
        "            self.y = y + mg1.content\n",
        "            x = self.x + 7 +mg1.content\n",
        "            self.sum = self.sum + x + y\n",
        "            self.x = mg1.content + x +8\n",
        "            print(x, \" \", y,\" \", self.sum)\n",
        "            return y\n",
        "        else:\n",
        "            x = 1\n",
        "            self.y += mg2[0].content\n",
        "            mg2[0].content = self.y + mg1.content\n",
        "            x = x + 4 + mg1.content\n",
        "            self.sum += x + self.y\n",
        "            mg1.content = self.sum - mg2[0].content\n",
        "            print(self.x, \" \",self.y,\" \", self.sum)\n",
        "            return self.sum\n",
        "\n",
        "\n",
        "q = Q5()\n",
        "q.methodA()\n"
      ],
      "metadata": {
        "id": "7QOR_8ezDtz9",
        "colab": {
          "base_uri": "https://localhost:8080/"
        },
        "outputId": "f0efa857-7efa-466a-89d5-e66f70a3ee0f"
      },
      "execution_count": null,
      "outputs": [
        {
          "output_type": "stream",
          "name": "stdout",
          "text": [
            "14   6   21\n",
            "39   26   86\n",
            "52   36   168\n",
            "225   57   409\n"
          ]
        }
      ]
    },
    {
      "cell_type": "code",
      "source": [
        "#21\n",
        "class Student:\n",
        "  def __init__(self,name,id,dept):\n",
        "    self.name=name\n",
        "    self.id=id\n",
        "    self.dept=dept\n",
        "  def details(self):\n",
        "    s=f\"Name: {self.name}\\nID: {self.id}\\nDepertment: {self.dept}\"\n",
        "    return s\n",
        "  def advise(self,*args):\n",
        "    self.args=args\n",
        "    total=len(args)\n",
        "    print(f\"{self.name},you have taken {total*3.0} credits\")\n",
        "    print(f\"List of courses: {','.join(args)}\")\n",
        "    if total< 3:\n",
        "      print(f'status: you have to take at least {3-total}more courses.')\n",
        "    elif total>=3 and total<=4:\n",
        "      print('status: ok')\n",
        "    elif total >4:\n",
        "      print(f'You have to drop at least {total-4} courses')\n",
        "s1 = Student('Alice','20103012','CSE')\n",
        "s2 = Student('Bob', '18301254','EEE')\n",
        "s3 = Student('Carol', '17101238','CSE')\n",
        "print('##########################')\n",
        "print(s1.details())\n",
        "print('##########################')\n",
        "print(s2.details())\n",
        "print('##########################')\n",
        "s1.advise('CSE110', 'MAT110', 'PHY111')\n",
        "print('##########################')\n",
        "s2.advise('BUS101', 'MAT120')\n",
        "print('##########################')\n",
        "s3.advise('MAT110', 'PHY111', 'ENG102',\n",
        "'CSE111', 'CSE230')\n",
        "\n"
      ],
      "metadata": {
        "colab": {
          "base_uri": "https://localhost:8080/"
        },
        "id": "iJnsHcYMVMOc",
        "outputId": "a8396f56-5bfb-4f4c-d50f-5b2d30820d4a"
      },
      "execution_count": null,
      "outputs": [
        {
          "output_type": "stream",
          "name": "stdout",
          "text": [
            "##########################\n",
            "Name: Alice\n",
            "ID: 20103012\n",
            "Depertment: CSE\n",
            "##########################\n",
            "Name: Bob\n",
            "ID: 18301254\n",
            "Depertment: EEE\n",
            "##########################\n",
            "Alice,you have taken 9.0 credits\n",
            "List of courses: CSE110,MAT110,PHY111\n",
            "status: ok\n",
            "##########################\n",
            "Bob,you have taken 6.0 credits\n",
            "List of courses: BUS101,MAT120\n",
            "status: you have to take at least 1more courses.\n",
            "##########################\n",
            "Carol,you have taken 15.0 credits\n",
            "List of courses: MAT110,PHY111,ENG102,CSE111,CSE230\n",
            "You have to drop at least 1 courses\n"
          ]
        }
      ]
    },
    {
      "cell_type": "code",
      "source": [
        "#20\n",
        "class Student:\n",
        "  def __init__(self,x=None,y=None):\n",
        "    self.x=x\n",
        "    self.y=y\n",
        "    if x==None and y==None:\n",
        "      print('Student name and department need to be set')\n",
        "    elif y==None:\n",
        "      print('Department for',self.x,'needs to be set')\n",
        "    else:\n",
        "      print(self.x,'is from',self.y,'department')\n",
        "  def update_name(self,name):\n",
        "    self.x=name\n",
        "  def update_department(self,dep):\n",
        "    self.y=dep\n",
        "  def enroll(self,*args):\n",
        "    self.args=args\n",
        "  def printDetail(self):\n",
        "    print(f\"Name: {self.x}\\nDepartment: {self.y}\")\n",
        "    print(f\"{self.x} enrolled in {len(self.args)} courses\")\n",
        "    print(f\"{','.join(self.args)}\")\n",
        "s1 = Student()\n",
        "print(\"=========================\")\n",
        "s2 = Student(\"Carol\")\n",
        "print(\"=========================\")\n",
        "s3 = Student(\"Jon\", \"EEE\")\n",
        "print(\"=========================\")\n",
        "s1.update_name(\"Bob\")\n",
        "s1.update_department(\"CSE\")\n",
        "s2.update_department(\"BBA\")\n",
        "s1.enroll(\"CSE110\", \"MAT110\", \"ENG091\")\n",
        "s2.enroll(\"BUS101\")\n",
        "s3.enroll(\"MAT110\", \"PHY111\")\n",
        "print(\"###########################\")\n",
        "s1.printDetail()\n",
        "print(\"=========================\")\n",
        "s2.printDetail()\n",
        "print(\"=========================\")\n",
        "s3.printDetail()"
      ],
      "metadata": {
        "colab": {
          "base_uri": "https://localhost:8080/"
        },
        "id": "Gz2p88V_oTk8",
        "outputId": "78e80dce-40d3-44b4-83df-a32b3e4ae80a"
      },
      "execution_count": null,
      "outputs": [
        {
          "output_type": "stream",
          "name": "stdout",
          "text": [
            "Student name and department need to be set\n",
            "=========================\n",
            "Department for Carol needs to be set\n",
            "=========================\n",
            "Jon is from EEE department\n",
            "=========================\n",
            "###########################\n",
            "Name: Bob\n",
            "Department: CSE\n",
            "Bob enrolled in 3 courses\n",
            "CSE110,MAT110,ENG091\n",
            "=========================\n",
            "Name: Carol\n",
            "Department: BBA\n",
            "Carol enrolled in 1 courses\n",
            "BUS101\n",
            "=========================\n",
            "Name: Jon\n",
            "Department: EEE\n",
            "Jon enrolled in 2 courses\n",
            "MAT110,PHY111\n"
          ]
        }
      ]
    },
    {
      "cell_type": "code",
      "source": [
        "#23\n",
        "class Author:\n",
        "  def __init__(self,x=None):\n",
        "    self.x=x\n",
        "    self.count=0\n",
        "    self.flst=[]\n",
        "    self.blst=[]\n",
        "  def addBook(self,*args):\n",
        "    if self.x==None:\n",
        "      print('A book can not be added without author name')\n",
        "    else:\n",
        "      self.args=args\n",
        "      y=args[0]\n",
        "      self.blst.append(y)\n",
        "      z=args[1]\n",
        "      self.flst.append(z)\n",
        "      self.count+=1\n",
        "\n",
        "  def setName(self,name):\n",
        "    self.x=name\n",
        "  def printDetail(self):\n",
        "    print('Number of Book(s):',self.count)\n",
        "    print('Author Name:',self.x)\n",
        "    for i in range(len(self.flst)):\n",
        "      if i%2==0:\n",
        "        for j in range(len(self.blst)):\n",
        "          j=i\n",
        "        print(f\"{self.flst[j]}:{self.blst[i]}\")\n",
        "      elif i%2==1:\n",
        "        for j in range(len(self.blst)):\n",
        "          j=i\n",
        "        print(f\"{self.flst[j]}:{self.blst[i]}\")\n",
        "a1 = Author()\n",
        "print(\"=================================\")\n",
        "a1.addBook(\"Ice\", \"Science Fiction\")\n",
        "print(\"=================================\")\n",
        "a1.setName(\"Anna Kavan\")\n",
        "a1.addBook(\"Ice\", \"Science Fiction\")\n",
        "a1.printDetail()\n",
        "print(\"=================================\")\n",
        "a2 = Author(\"Humayun Ahmed\")\n",
        "a2.addBook(\"Onnobhubon\", \"Science Fiction\")\n",
        "a2.addBook(\"Megher Upor Bari\", \"Horror\")\n",
        "print(\"=================================\")\n",
        "a2.printDetail()\n",
        "a2.addBook(\"Ireena\", \"Science Fiction\")\n",
        "print(\"=================================\")\n",
        "a2.printDetail()\n",
        "print(\"=================================\")\n"
      ],
      "metadata": {
        "colab": {
          "base_uri": "https://localhost:8080/"
        },
        "id": "uaujS7WDxH_m",
        "outputId": "27e2a459-becf-43d5-bfed-1ff46945ac01"
      },
      "execution_count": null,
      "outputs": [
        {
          "output_type": "stream",
          "name": "stdout",
          "text": [
            "=================================\n",
            "A book can not be added without author name\n",
            "=================================\n",
            "Number of Book(s): 1\n",
            "Author Name: Anna Kavan\n",
            "Science Fiction:Ice\n",
            "=================================\n",
            "=================================\n",
            "Number of Book(s): 2\n",
            "Author Name: Humayun Ahmed\n",
            "Science Fiction:Onnobhubon\n",
            "Horror:Megher Upor Bari\n",
            "=================================\n",
            "Number of Book(s): 3\n",
            "Author Name: Humayun Ahmed\n",
            "Science Fiction:Onnobhubon\n",
            "Horror:Megher Upor Bari\n",
            "Science Fiction:Ireena\n",
            "=================================\n"
          ]
        }
      ]
    },
    {
      "cell_type": "code",
      "source": [
        "class Test4:\n",
        "    def __init__(self):\n",
        "        self.sum, self.y = 0, 0\n",
        "    def methodA(self):\n",
        "        x, y = 0, 0\n",
        "        msg = [0]\n",
        "        msg[0] = 5\n",
        "        y = y + self.methodB(msg[0])\n",
        "        x = y + self.methodB(msg, msg[0])\n",
        "        self.sum = x + y + msg[0]\n",
        "        print(x, y, self.sum)\n",
        "    def methodB(self, *args):\n",
        "        if len(args) == 1:\n",
        "            mg1 = args[0]\n",
        "            x, y = 0, 0\n",
        "            y = y + mg1\n",
        "            x = x + 33 + mg1\n",
        "            self.sum = self.sum + x + y\n",
        "            self.y = mg1 + x + 2\n",
        "            print(x, y, self.sum)\n",
        "            return y\n",
        "        else:\n",
        "            mg2, mg1 = args\n",
        "            x = 0\n",
        "            self.y = self.y + mg2[0]\n",
        "            x = x + 33 + mg1\n",
        "            self.sum = self.sum + x + self.y\n",
        "            mg2[0] = self.y + mg1\n",
        "            mg1 = mg1 + x + 2\n",
        "            print(x, self.y, self.sum)\n",
        "            return self.sum\n",
        "t3 = Test4()\n",
        "t3.methodA()\n",
        "t3.methodA()\n",
        "t3.methodA()\n",
        "t3.methodA()\n",
        "\n"
      ],
      "metadata": {
        "colab": {
          "base_uri": "https://localhost:8080/"
        },
        "id": "AiJz8dhIRg8h",
        "outputId": "bb37547b-5588-4d16-944f-84d4cd713049"
      },
      "execution_count": null,
      "outputs": [
        {
          "output_type": "stream",
          "name": "stdout",
          "text": [
            "38 5 43\n",
            "38 50 131\n",
            "136 5 196\n",
            "38 5 239\n",
            "38 50 327\n",
            "332 5 392\n",
            "38 5 435\n",
            "38 50 523\n",
            "528 5 588\n",
            "38 5 631\n",
            "38 50 719\n",
            "724 5 784\n"
          ]
        }
      ]
    },
    {
      "cell_type": "code",
      "source": [],
      "metadata": {
        "id": "gFPrJsuURh97"
      },
      "execution_count": null,
      "outputs": []
    }
  ]
}